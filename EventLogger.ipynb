{
 "cells": [
  {
   "cell_type": "code",
   "execution_count": 53,
   "metadata": {},
   "outputs": [],
   "source": [
    "import pandas as pd\n",
    "import numpy as np\n",
    "from plotly.offline import iplot\n",
    "from plotly.offline import plot\n",
    "from plotly.offline import init_notebook_mode\n",
    "import plotly.graph_objs as go"
   ]
  },
  {
   "cell_type": "code",
   "execution_count": 54,
   "metadata": {},
   "outputs": [],
   "source": [
    "class Logger:\n",
    "    '''\n",
    "    Класс для записи задач с длительностямя\n",
    "    '''\n",
    "    \n",
    "    def __init__(self, file=None, log=pd.DataFrame()):\n",
    "        '''\n",
    "        Инициализирует структуру для записи задач\n",
    "        \n",
    "        Args:\n",
    "            log(pd.DataFrame): Данные о предыдущем логе, если его нет - создается новый\n",
    "            \n",
    "        '''\n",
    "        if file:\n",
    "            self.log = pd.read_csv(file, parse_dates=['timestamp'])\n",
    "            self.state = self.log.iloc[-1]['task']\n",
    "            self.states = set(self.log.task.unique()) - set(self.log[self.log['status'] == 'end']['status'].unique())\n",
    "        elif not log.empty:\n",
    "            self.log = log.copy()\n",
    "        else:\n",
    "            self.log = pd.DataFrame(columns=['timestamp', 'task', 'status'])\n",
    "            self.state = 'idle'\n",
    "            self.log.loc[self.log.shape[0]] = [pd.Timestamp.now(), self.state, 'begin']\n",
    "            self.states = set({'idle'})\n",
    "        \n",
    "    def begin(self, task):\n",
    "        '''\n",
    "        Позволяет начать новую задачу, текущая прерывается при этом\n",
    "        Args:\n",
    "            task(str): Имя начинаемой задачи\n",
    "        '''\n",
    "        if task not in self.states:\n",
    "            self.states.add(task)\n",
    "            self.log.loc[self.log.shape[0]] = [pd.Timestamp.now(), self.state, 'stop']\n",
    "            self.state = task\n",
    "            self.log.loc[self.log.shape[0]] = [pd.Timestamp.now(), self.state, 'begin']\n",
    "        else:\n",
    "            print('You are already working on this task')\n",
    "    \n",
    "    def resume(self, task):\n",
    "        '''\n",
    "        Позволяет продолжить существующую задачу, текущая прерывается при этом\n",
    "        Args:\n",
    "            task(str): Имя продолжаемой задачи\n",
    "        '''\n",
    "        if task in self.states:\n",
    "            self.log.loc[self.log.shape[0]] = [pd.Timestamp.now(), self.state, 'stop']\n",
    "            self.state = task\n",
    "            self.log.loc[self.log.shape[0]] = [pd.Timestamp.now(), self.state, 'resume']\n",
    "        else:\n",
    "            print('You can''t resume task that didn''t begin')\n",
    "            \n",
    "    def stop(self):\n",
    "        '''\n",
    "        Останавливает текущую задачу\n",
    "        '''\n",
    "        if self.state != 'idle':\n",
    "            self.log.loc[self.log.shape[0]] = [pd.Timestamp.now(), self.state, 'stop']\n",
    "            self.state = 'idle'\n",
    "            self.log.loc[self.log.shape[0]] = [pd.Timestamp.now(), self.state, 'resume']        \n",
    "        else:\n",
    "            print('You can''t end idle state')\n",
    "    \n",
    "    def end(self):\n",
    "        '''\n",
    "        Завершает текущую задачу\n",
    "        '''\n",
    "        if self.state != 'idle':\n",
    "            self.log.loc[self.log.shape[0]] = [pd.Timestamp.now(), self.state, 'end']\n",
    "            self.states.remove(self.state)\n",
    "            self.state = 'idle'\n",
    "            self.log.loc[self.log.shape[0]] = [pd.Timestamp.now(), self.state, 'resume']        \n",
    "        else:\n",
    "            print('You can''t end idle state')\n",
    "    \n",
    "    def backup(self):\n",
    "        self.log.to_csv('log.csv', index=False)\n",
    "    \n",
    "    def plot(self, tasks=None):\n",
    "        '''\n",
    "        Отрисовка хронометража\n",
    "        Args:\n",
    "            tasks(list(str)): Набор задач для рассмотрения, по умолчанию все\n",
    "        '''\n",
    "        if not tasks:\n",
    "            tasks=self.log.task.unique()\n",
    "        all_states = tasks\n",
    "        data = []\n",
    "        shapes = []\n",
    "        for j, state in enumerate(all_states):\n",
    "            r = np.random.randint(255)\n",
    "            g = np.random.randint(255)\n",
    "            b = np.random.randint(255)\n",
    "            color = f'rgb({r}, {g}, {b})'\n",
    "            cur_log = self.log[self.log.task == state]\n",
    "            size = cur_log.shape[0]\n",
    "            x = []\n",
    "            for i in range(0,size//2*2,2):\n",
    "                x.append(cur_log.iloc[i].timestamp)\n",
    "                x.append(cur_log.iloc[i+1].timestamp)\n",
    "                shapes.append({\n",
    "                      'x0':cur_log.iloc[i].timestamp,\n",
    "                      'x1':cur_log.iloc[i+1].timestamp,\n",
    "                      'y0':j-0.2,\n",
    "                      'y1':j+0.2,\n",
    "                      'type':'rect',\n",
    "                      'xref': 'x', \n",
    "                      'yref': 'y', \n",
    "                      'opacity': 1, \n",
    "                      'fillcolor': color\n",
    "                })\n",
    "            if size % 2 == 1:\n",
    "                # Дополнительный интервал, если работа сейчас в процессе выполнения\n",
    "                x.append(cur_log.iloc[size-1].timestamp)\n",
    "                x.append(pd.Timestamp.now())\n",
    "                shapes.append({\n",
    "                      'x0':cur_log.iloc[size-1].timestamp,\n",
    "                      'x1':pd.Timestamp.now(),\n",
    "                      'y0':j-0.2,\n",
    "                      'y1':j+0.2,\n",
    "                      'type':'rect',\n",
    "                      'xref': 'x', \n",
    "                      'yref': 'y', \n",
    "                      'opacity': 1, \n",
    "                      'fillcolor': color\n",
    "                })\n",
    "                \n",
    "            y = [j]*len(x)\n",
    "            data.append(go.Scatter({\n",
    "                  'name': state, \n",
    "                  'mode': 'markers', \n",
    "                  'x': x, \n",
    "                  'y': y, \n",
    "                  'marker': {\n",
    "                    'size': 1, \n",
    "                    'color': color\n",
    "                  }, \n",
    "                  #'hoverinfo': 'none', \n",
    "                  #'showlegend': True\n",
    "            }))\n",
    "        layout = {\n",
    "            'title':'Look',\n",
    "            'shapes':shapes,\n",
    "            \"hovermode\": \"closest\", \n",
    "            \"showlegend\": False,\n",
    "            \"yaxis\": {\n",
    "                \"showgrid\": True, \n",
    "                \"ticktext\": all_states, \n",
    "                \"tickvals\": list(range(len(all_states))), \n",
    "                \"zeroline\": False, \n",
    "                \"autorange\": True\n",
    "            },\n",
    "        }\n",
    "        fig={\n",
    "            'data':data,\n",
    "            'layout':layout\n",
    "        }\n",
    "        iplot(fig)\n",
    "    \n",
    "    def analyze(self, tasks=None):\n",
    "        '''\n",
    "        Подсчет суммарной длительности по каждой задаче\n",
    "        \n",
    "        Args:\n",
    "            tasks(list(str)): Набор задач для рассмотрения, по умолчанию все\n",
    "        '''\n",
    "        if not tasks:\n",
    "            tasks=self.log.task.unique()\n",
    "        all_states = tasks\n",
    "        rows = []\n",
    "        for j, state in enumerate(all_states):\n",
    "            cur_log = self.log[self.log.task == state].copy().reset_index().drop(columns='index')\n",
    "            if cur_log.shape[0] % 2 == 1:\n",
    "                cur_log.loc[cur_log.shape[0]] = [pd.Timestamp.now(), state, 'end']   \n",
    "            upper_bound = np.array(cur_log['timestamp'].iloc[1::2])\n",
    "            lower_bound = np.array(cur_log['timestamp'].iloc[0::2])\n",
    "            row = [state, (upper_bound - lower_bound).sum()]\n",
    "            rows.append(row)\n",
    "        return pd.DataFrame(rows, columns=['task', 'duration'])\n",
    "        "
   ]
  },
  {
   "cell_type": "markdown",
   "metadata": {},
   "source": [
    "# Создание"
   ]
  },
  {
   "cell_type": "code",
   "execution_count": 65,
   "metadata": {},
   "outputs": [],
   "source": [
    "logger = Logger('log.csv')"
   ]
  },
  {
   "cell_type": "code",
   "execution_count": null,
   "metadata": {},
   "outputs": [],
   "source": []
  },
  {
   "cell_type": "markdown",
   "metadata": {},
   "source": [
    "# Операции"
   ]
  },
  {
   "cell_type": "code",
   "execution_count": 70,
   "metadata": {},
   "outputs": [],
   "source": [
    "logger.begin('Эксперименты')"
   ]
  },
  {
   "cell_type": "code",
   "execution_count": 59,
   "metadata": {},
   "outputs": [],
   "source": [
    "logger.stop()"
   ]
  },
  {
   "cell_type": "code",
   "execution_count": 50,
   "metadata": {},
   "outputs": [],
   "source": [
    "logger.resume('Ori')"
   ]
  },
  {
   "cell_type": "code",
   "execution_count": 71,
   "metadata": {},
   "outputs": [],
   "source": [
    "logger.end()"
   ]
  },
  {
   "cell_type": "code",
   "execution_count": 64,
   "metadata": {},
   "outputs": [],
   "source": [
    "logger.backup()"
   ]
  },
  {
   "cell_type": "markdown",
   "metadata": {},
   "source": [
    "# Обзор"
   ]
  },
  {
   "cell_type": "code",
   "execution_count": 73,
   "metadata": {},
   "outputs": [
    {
     "data": {
      "text/plain": [
       "'idle'"
      ]
     },
     "execution_count": 73,
     "metadata": {},
     "output_type": "execute_result"
    }
   ],
   "source": [
    "logger.state"
   ]
  },
  {
   "cell_type": "code",
   "execution_count": 67,
   "metadata": {},
   "outputs": [
    {
     "data": {
      "text/plain": [
       "{'Ori', 'idle'}"
      ]
     },
     "execution_count": 67,
     "metadata": {},
     "output_type": "execute_result"
    }
   ],
   "source": [
    "logger.states "
   ]
  },
  {
   "cell_type": "code",
   "execution_count": 74,
   "metadata": {},
   "outputs": [
    {
     "data": {
      "application/vnd.plotly.v1+json": {
       "config": {
        "linkText": "Export to plot.ly",
        "plotlyServerURL": "https://plot.ly",
        "showLink": false
       },
       "data": [
        {
         "marker": {
          "color": "rgb(3, 38, 111)",
          "size": 1
         },
         "mode": "markers",
         "name": "idle",
         "type": "scatter",
         "x": [
          "2020-03-20T19:18:16.718814",
          "2020-03-20T19:18:17.699155",
          "2020-03-20T19:18:17.990761",
          "2020-03-20T19:24:06.721636",
          "2020-03-20T20:58:21.965456",
          "2020-03-21T11:00:37.846143",
          "2020-03-21T11:45:33.374218",
          "2020-03-21T14:13:53.798451"
         ],
         "y": [
          0,
          0,
          0,
          0,
          0,
          0,
          0,
          0
         ]
        },
        {
         "marker": {
          "color": "rgb(190, 188, 170)",
          "size": 1
         },
         "mode": "markers",
         "name": "Ori",
         "type": "scatter",
         "x": [
          "2020-03-20T19:18:17.702957",
          "2020-03-20T19:18:17.986907",
          "2020-03-20T19:24:06.724954",
          "2020-03-20T20:58:21.961462"
         ],
         "y": [
          1,
          1,
          1,
          1
         ]
        },
        {
         "marker": {
          "color": "rgb(173, 60, 155)",
          "size": 1
         },
         "mode": "markers",
         "name": "Эксперименты",
         "type": "scatter",
         "x": [
          "2020-03-21T11:00:37.850872",
          "2020-03-21T11:45:33.358327"
         ],
         "y": [
          2,
          2
         ]
        }
       ],
       "layout": {
        "autosize": true,
        "hovermode": "closest",
        "shapes": [
         {
          "fillcolor": "rgb(3, 38, 111)",
          "opacity": 1,
          "type": "rect",
          "x0": "2020-03-20T19:18:16.718814",
          "x1": "2020-03-20T19:18:17.699155",
          "xref": "x",
          "y0": -0.2,
          "y1": 0.2,
          "yref": "y"
         },
         {
          "fillcolor": "rgb(3, 38, 111)",
          "opacity": 1,
          "type": "rect",
          "x0": "2020-03-20T19:18:17.990761",
          "x1": "2020-03-20T19:24:06.721636",
          "xref": "x",
          "y0": -0.2,
          "y1": 0.2,
          "yref": "y"
         },
         {
          "fillcolor": "rgb(3, 38, 111)",
          "opacity": 1,
          "type": "rect",
          "x0": "2020-03-20T20:58:21.965456",
          "x1": "2020-03-21T11:00:37.846143",
          "xref": "x",
          "y0": -0.2,
          "y1": 0.2,
          "yref": "y"
         },
         {
          "fillcolor": "rgb(3, 38, 111)",
          "opacity": 1,
          "type": "rect",
          "x0": "2020-03-21T11:45:33.374218",
          "x1": "2020-03-21T14:13:53.798694",
          "xref": "x",
          "y0": -0.2,
          "y1": 0.2,
          "yref": "y"
         },
         {
          "fillcolor": "rgb(190, 188, 170)",
          "opacity": 1,
          "type": "rect",
          "x0": "2020-03-20T19:18:17.702957",
          "x1": "2020-03-20T19:18:17.986907",
          "xref": "x",
          "y0": 0.8,
          "y1": 1.2,
          "yref": "y"
         },
         {
          "fillcolor": "rgb(190, 188, 170)",
          "opacity": 1,
          "type": "rect",
          "x0": "2020-03-20T19:24:06.724954",
          "x1": "2020-03-20T20:58:21.961462",
          "xref": "x",
          "y0": 0.8,
          "y1": 1.2,
          "yref": "y"
         },
         {
          "fillcolor": "rgb(173, 60, 155)",
          "opacity": 1,
          "type": "rect",
          "x0": "2020-03-21T11:00:37.850872",
          "x1": "2020-03-21T11:45:33.358327",
          "xref": "x",
          "y0": 1.8,
          "y1": 2.2,
          "yref": "y"
         }
        ],
        "showlegend": false,
        "template": {
         "data": {
          "bar": [
           {
            "error_x": {
             "color": "#2a3f5f"
            },
            "error_y": {
             "color": "#2a3f5f"
            },
            "marker": {
             "line": {
              "color": "#E5ECF6",
              "width": 0.5
             }
            },
            "type": "bar"
           }
          ],
          "barpolar": [
           {
            "marker": {
             "line": {
              "color": "#E5ECF6",
              "width": 0.5
             }
            },
            "type": "barpolar"
           }
          ],
          "carpet": [
           {
            "aaxis": {
             "endlinecolor": "#2a3f5f",
             "gridcolor": "white",
             "linecolor": "white",
             "minorgridcolor": "white",
             "startlinecolor": "#2a3f5f"
            },
            "baxis": {
             "endlinecolor": "#2a3f5f",
             "gridcolor": "white",
             "linecolor": "white",
             "minorgridcolor": "white",
             "startlinecolor": "#2a3f5f"
            },
            "type": "carpet"
           }
          ],
          "choropleth": [
           {
            "colorbar": {
             "outlinewidth": 0,
             "ticks": ""
            },
            "type": "choropleth"
           }
          ],
          "contour": [
           {
            "colorbar": {
             "outlinewidth": 0,
             "ticks": ""
            },
            "colorscale": [
             [
              0,
              "#0d0887"
             ],
             [
              0.1111111111111111,
              "#46039f"
             ],
             [
              0.2222222222222222,
              "#7201a8"
             ],
             [
              0.3333333333333333,
              "#9c179e"
             ],
             [
              0.4444444444444444,
              "#bd3786"
             ],
             [
              0.5555555555555556,
              "#d8576b"
             ],
             [
              0.6666666666666666,
              "#ed7953"
             ],
             [
              0.7777777777777778,
              "#fb9f3a"
             ],
             [
              0.8888888888888888,
              "#fdca26"
             ],
             [
              1,
              "#f0f921"
             ]
            ],
            "type": "contour"
           }
          ],
          "contourcarpet": [
           {
            "colorbar": {
             "outlinewidth": 0,
             "ticks": ""
            },
            "type": "contourcarpet"
           }
          ],
          "heatmap": [
           {
            "colorbar": {
             "outlinewidth": 0,
             "ticks": ""
            },
            "colorscale": [
             [
              0,
              "#0d0887"
             ],
             [
              0.1111111111111111,
              "#46039f"
             ],
             [
              0.2222222222222222,
              "#7201a8"
             ],
             [
              0.3333333333333333,
              "#9c179e"
             ],
             [
              0.4444444444444444,
              "#bd3786"
             ],
             [
              0.5555555555555556,
              "#d8576b"
             ],
             [
              0.6666666666666666,
              "#ed7953"
             ],
             [
              0.7777777777777778,
              "#fb9f3a"
             ],
             [
              0.8888888888888888,
              "#fdca26"
             ],
             [
              1,
              "#f0f921"
             ]
            ],
            "type": "heatmap"
           }
          ],
          "heatmapgl": [
           {
            "colorbar": {
             "outlinewidth": 0,
             "ticks": ""
            },
            "colorscale": [
             [
              0,
              "#0d0887"
             ],
             [
              0.1111111111111111,
              "#46039f"
             ],
             [
              0.2222222222222222,
              "#7201a8"
             ],
             [
              0.3333333333333333,
              "#9c179e"
             ],
             [
              0.4444444444444444,
              "#bd3786"
             ],
             [
              0.5555555555555556,
              "#d8576b"
             ],
             [
              0.6666666666666666,
              "#ed7953"
             ],
             [
              0.7777777777777778,
              "#fb9f3a"
             ],
             [
              0.8888888888888888,
              "#fdca26"
             ],
             [
              1,
              "#f0f921"
             ]
            ],
            "type": "heatmapgl"
           }
          ],
          "histogram": [
           {
            "marker": {
             "colorbar": {
              "outlinewidth": 0,
              "ticks": ""
             }
            },
            "type": "histogram"
           }
          ],
          "histogram2d": [
           {
            "colorbar": {
             "outlinewidth": 0,
             "ticks": ""
            },
            "colorscale": [
             [
              0,
              "#0d0887"
             ],
             [
              0.1111111111111111,
              "#46039f"
             ],
             [
              0.2222222222222222,
              "#7201a8"
             ],
             [
              0.3333333333333333,
              "#9c179e"
             ],
             [
              0.4444444444444444,
              "#bd3786"
             ],
             [
              0.5555555555555556,
              "#d8576b"
             ],
             [
              0.6666666666666666,
              "#ed7953"
             ],
             [
              0.7777777777777778,
              "#fb9f3a"
             ],
             [
              0.8888888888888888,
              "#fdca26"
             ],
             [
              1,
              "#f0f921"
             ]
            ],
            "type": "histogram2d"
           }
          ],
          "histogram2dcontour": [
           {
            "colorbar": {
             "outlinewidth": 0,
             "ticks": ""
            },
            "colorscale": [
             [
              0,
              "#0d0887"
             ],
             [
              0.1111111111111111,
              "#46039f"
             ],
             [
              0.2222222222222222,
              "#7201a8"
             ],
             [
              0.3333333333333333,
              "#9c179e"
             ],
             [
              0.4444444444444444,
              "#bd3786"
             ],
             [
              0.5555555555555556,
              "#d8576b"
             ],
             [
              0.6666666666666666,
              "#ed7953"
             ],
             [
              0.7777777777777778,
              "#fb9f3a"
             ],
             [
              0.8888888888888888,
              "#fdca26"
             ],
             [
              1,
              "#f0f921"
             ]
            ],
            "type": "histogram2dcontour"
           }
          ],
          "mesh3d": [
           {
            "colorbar": {
             "outlinewidth": 0,
             "ticks": ""
            },
            "type": "mesh3d"
           }
          ],
          "parcoords": [
           {
            "line": {
             "colorbar": {
              "outlinewidth": 0,
              "ticks": ""
             }
            },
            "type": "parcoords"
           }
          ],
          "pie": [
           {
            "automargin": true,
            "type": "pie"
           }
          ],
          "scatter": [
           {
            "marker": {
             "colorbar": {
              "outlinewidth": 0,
              "ticks": ""
             }
            },
            "type": "scatter"
           }
          ],
          "scatter3d": [
           {
            "line": {
             "colorbar": {
              "outlinewidth": 0,
              "ticks": ""
             }
            },
            "marker": {
             "colorbar": {
              "outlinewidth": 0,
              "ticks": ""
             }
            },
            "type": "scatter3d"
           }
          ],
          "scattercarpet": [
           {
            "marker": {
             "colorbar": {
              "outlinewidth": 0,
              "ticks": ""
             }
            },
            "type": "scattercarpet"
           }
          ],
          "scattergeo": [
           {
            "marker": {
             "colorbar": {
              "outlinewidth": 0,
              "ticks": ""
             }
            },
            "type": "scattergeo"
           }
          ],
          "scattergl": [
           {
            "marker": {
             "colorbar": {
              "outlinewidth": 0,
              "ticks": ""
             }
            },
            "type": "scattergl"
           }
          ],
          "scattermapbox": [
           {
            "marker": {
             "colorbar": {
              "outlinewidth": 0,
              "ticks": ""
             }
            },
            "type": "scattermapbox"
           }
          ],
          "scatterpolar": [
           {
            "marker": {
             "colorbar": {
              "outlinewidth": 0,
              "ticks": ""
             }
            },
            "type": "scatterpolar"
           }
          ],
          "scatterpolargl": [
           {
            "marker": {
             "colorbar": {
              "outlinewidth": 0,
              "ticks": ""
             }
            },
            "type": "scatterpolargl"
           }
          ],
          "scatterternary": [
           {
            "marker": {
             "colorbar": {
              "outlinewidth": 0,
              "ticks": ""
             }
            },
            "type": "scatterternary"
           }
          ],
          "surface": [
           {
            "colorbar": {
             "outlinewidth": 0,
             "ticks": ""
            },
            "colorscale": [
             [
              0,
              "#0d0887"
             ],
             [
              0.1111111111111111,
              "#46039f"
             ],
             [
              0.2222222222222222,
              "#7201a8"
             ],
             [
              0.3333333333333333,
              "#9c179e"
             ],
             [
              0.4444444444444444,
              "#bd3786"
             ],
             [
              0.5555555555555556,
              "#d8576b"
             ],
             [
              0.6666666666666666,
              "#ed7953"
             ],
             [
              0.7777777777777778,
              "#fb9f3a"
             ],
             [
              0.8888888888888888,
              "#fdca26"
             ],
             [
              1,
              "#f0f921"
             ]
            ],
            "type": "surface"
           }
          ],
          "table": [
           {
            "cells": {
             "fill": {
              "color": "#EBF0F8"
             },
             "line": {
              "color": "white"
             }
            },
            "header": {
             "fill": {
              "color": "#C8D4E3"
             },
             "line": {
              "color": "white"
             }
            },
            "type": "table"
           }
          ]
         },
         "layout": {
          "annotationdefaults": {
           "arrowcolor": "#2a3f5f",
           "arrowhead": 0,
           "arrowwidth": 1
          },
          "coloraxis": {
           "colorbar": {
            "outlinewidth": 0,
            "ticks": ""
           }
          },
          "colorscale": {
           "diverging": [
            [
             0,
             "#8e0152"
            ],
            [
             0.1,
             "#c51b7d"
            ],
            [
             0.2,
             "#de77ae"
            ],
            [
             0.3,
             "#f1b6da"
            ],
            [
             0.4,
             "#fde0ef"
            ],
            [
             0.5,
             "#f7f7f7"
            ],
            [
             0.6,
             "#e6f5d0"
            ],
            [
             0.7,
             "#b8e186"
            ],
            [
             0.8,
             "#7fbc41"
            ],
            [
             0.9,
             "#4d9221"
            ],
            [
             1,
             "#276419"
            ]
           ],
           "sequential": [
            [
             0,
             "#0d0887"
            ],
            [
             0.1111111111111111,
             "#46039f"
            ],
            [
             0.2222222222222222,
             "#7201a8"
            ],
            [
             0.3333333333333333,
             "#9c179e"
            ],
            [
             0.4444444444444444,
             "#bd3786"
            ],
            [
             0.5555555555555556,
             "#d8576b"
            ],
            [
             0.6666666666666666,
             "#ed7953"
            ],
            [
             0.7777777777777778,
             "#fb9f3a"
            ],
            [
             0.8888888888888888,
             "#fdca26"
            ],
            [
             1,
             "#f0f921"
            ]
           ],
           "sequentialminus": [
            [
             0,
             "#0d0887"
            ],
            [
             0.1111111111111111,
             "#46039f"
            ],
            [
             0.2222222222222222,
             "#7201a8"
            ],
            [
             0.3333333333333333,
             "#9c179e"
            ],
            [
             0.4444444444444444,
             "#bd3786"
            ],
            [
             0.5555555555555556,
             "#d8576b"
            ],
            [
             0.6666666666666666,
             "#ed7953"
            ],
            [
             0.7777777777777778,
             "#fb9f3a"
            ],
            [
             0.8888888888888888,
             "#fdca26"
            ],
            [
             1,
             "#f0f921"
            ]
           ]
          },
          "colorway": [
           "#636efa",
           "#EF553B",
           "#00cc96",
           "#ab63fa",
           "#FFA15A",
           "#19d3f3",
           "#FF6692",
           "#B6E880",
           "#FF97FF",
           "#FECB52"
          ],
          "font": {
           "color": "#2a3f5f"
          },
          "geo": {
           "bgcolor": "white",
           "lakecolor": "white",
           "landcolor": "#E5ECF6",
           "showlakes": true,
           "showland": true,
           "subunitcolor": "white"
          },
          "hoverlabel": {
           "align": "left"
          },
          "hovermode": "closest",
          "mapbox": {
           "style": "light"
          },
          "paper_bgcolor": "white",
          "plot_bgcolor": "#E5ECF6",
          "polar": {
           "angularaxis": {
            "gridcolor": "white",
            "linecolor": "white",
            "ticks": ""
           },
           "bgcolor": "#E5ECF6",
           "radialaxis": {
            "gridcolor": "white",
            "linecolor": "white",
            "ticks": ""
           }
          },
          "scene": {
           "xaxis": {
            "backgroundcolor": "#E5ECF6",
            "gridcolor": "white",
            "gridwidth": 2,
            "linecolor": "white",
            "showbackground": true,
            "ticks": "",
            "zerolinecolor": "white"
           },
           "yaxis": {
            "backgroundcolor": "#E5ECF6",
            "gridcolor": "white",
            "gridwidth": 2,
            "linecolor": "white",
            "showbackground": true,
            "ticks": "",
            "zerolinecolor": "white"
           },
           "zaxis": {
            "backgroundcolor": "#E5ECF6",
            "gridcolor": "white",
            "gridwidth": 2,
            "linecolor": "white",
            "showbackground": true,
            "ticks": "",
            "zerolinecolor": "white"
           }
          },
          "shapedefaults": {
           "line": {
            "color": "#2a3f5f"
           }
          },
          "ternary": {
           "aaxis": {
            "gridcolor": "white",
            "linecolor": "white",
            "ticks": ""
           },
           "baxis": {
            "gridcolor": "white",
            "linecolor": "white",
            "ticks": ""
           },
           "bgcolor": "#E5ECF6",
           "caxis": {
            "gridcolor": "white",
            "linecolor": "white",
            "ticks": ""
           }
          },
          "title": {
           "x": 0.05
          },
          "xaxis": {
           "automargin": true,
           "gridcolor": "white",
           "linecolor": "white",
           "ticks": "",
           "title": {
            "standoff": 15
           },
           "zerolinecolor": "white",
           "zerolinewidth": 2
          },
          "yaxis": {
           "automargin": true,
           "gridcolor": "white",
           "linecolor": "white",
           "ticks": "",
           "title": {
            "standoff": 15
           },
           "zerolinecolor": "white",
           "zerolinewidth": 2
          }
         }
        },
        "title": {
         "text": "Look"
        },
        "xaxis": {
         "autorange": true,
         "range": [
          "2020-03-20 18:09:51.2077",
          "2020-03-21 15:22:19.3096"
         ],
         "type": "date"
        },
        "yaxis": {
         "autorange": true,
         "range": [
          -0.20895522388059704,
          2.208955223880597
         ],
         "showgrid": true,
         "ticktext": [
          "idle",
          "Ori",
          "Эксперименты"
         ],
         "tickvals": [
          0,
          1,
          2
         ],
         "type": "linear",
         "zeroline": false
        }
       }
      },
      "text/html": [
       "<div>\n",
       "        \n",
       "        \n",
       "            <div id=\"0ed158e3-3109-4ad5-bb38-90ab24eaab62\" class=\"plotly-graph-div\" style=\"height:525px; width:100%;\"></div>\n",
       "            <script type=\"text/javascript\">\n",
       "                require([\"plotly\"], function(Plotly) {\n",
       "                    window.PLOTLYENV=window.PLOTLYENV || {};\n",
       "                    \n",
       "                if (document.getElementById(\"0ed158e3-3109-4ad5-bb38-90ab24eaab62\")) {\n",
       "                    Plotly.newPlot(\n",
       "                        '0ed158e3-3109-4ad5-bb38-90ab24eaab62',\n",
       "                        [{\"marker\": {\"color\": \"rgb(3, 38, 111)\", \"size\": 1}, \"mode\": \"markers\", \"name\": \"idle\", \"type\": \"scatter\", \"x\": [\"2020-03-20T19:18:16.718814\", \"2020-03-20T19:18:17.699155\", \"2020-03-20T19:18:17.990761\", \"2020-03-20T19:24:06.721636\", \"2020-03-20T20:58:21.965456\", \"2020-03-21T11:00:37.846143\", \"2020-03-21T11:45:33.374218\", \"2020-03-21T14:13:53.798451\"], \"y\": [0, 0, 0, 0, 0, 0, 0, 0]}, {\"marker\": {\"color\": \"rgb(190, 188, 170)\", \"size\": 1}, \"mode\": \"markers\", \"name\": \"Ori\", \"type\": \"scatter\", \"x\": [\"2020-03-20T19:18:17.702957\", \"2020-03-20T19:18:17.986907\", \"2020-03-20T19:24:06.724954\", \"2020-03-20T20:58:21.961462\"], \"y\": [1, 1, 1, 1]}, {\"marker\": {\"color\": \"rgb(173, 60, 155)\", \"size\": 1}, \"mode\": \"markers\", \"name\": \"\\u042d\\u043a\\u0441\\u043f\\u0435\\u0440\\u0438\\u043c\\u0435\\u043d\\u0442\\u044b\", \"type\": \"scatter\", \"x\": [\"2020-03-21T11:00:37.850872\", \"2020-03-21T11:45:33.358327\"], \"y\": [2, 2]}],\n",
       "                        {\"hovermode\": \"closest\", \"shapes\": [{\"fillcolor\": \"rgb(3, 38, 111)\", \"opacity\": 1, \"type\": \"rect\", \"x0\": \"2020-03-20T19:18:16.718814\", \"x1\": \"2020-03-20T19:18:17.699155\", \"xref\": \"x\", \"y0\": -0.2, \"y1\": 0.2, \"yref\": \"y\"}, {\"fillcolor\": \"rgb(3, 38, 111)\", \"opacity\": 1, \"type\": \"rect\", \"x0\": \"2020-03-20T19:18:17.990761\", \"x1\": \"2020-03-20T19:24:06.721636\", \"xref\": \"x\", \"y0\": -0.2, \"y1\": 0.2, \"yref\": \"y\"}, {\"fillcolor\": \"rgb(3, 38, 111)\", \"opacity\": 1, \"type\": \"rect\", \"x0\": \"2020-03-20T20:58:21.965456\", \"x1\": \"2020-03-21T11:00:37.846143\", \"xref\": \"x\", \"y0\": -0.2, \"y1\": 0.2, \"yref\": \"y\"}, {\"fillcolor\": \"rgb(3, 38, 111)\", \"opacity\": 1, \"type\": \"rect\", \"x0\": \"2020-03-21T11:45:33.374218\", \"x1\": \"2020-03-21T14:13:53.798694\", \"xref\": \"x\", \"y0\": -0.2, \"y1\": 0.2, \"yref\": \"y\"}, {\"fillcolor\": \"rgb(190, 188, 170)\", \"opacity\": 1, \"type\": \"rect\", \"x0\": \"2020-03-20T19:18:17.702957\", \"x1\": \"2020-03-20T19:18:17.986907\", \"xref\": \"x\", \"y0\": 0.8, \"y1\": 1.2, \"yref\": \"y\"}, {\"fillcolor\": \"rgb(190, 188, 170)\", \"opacity\": 1, \"type\": \"rect\", \"x0\": \"2020-03-20T19:24:06.724954\", \"x1\": \"2020-03-20T20:58:21.961462\", \"xref\": \"x\", \"y0\": 0.8, \"y1\": 1.2, \"yref\": \"y\"}, {\"fillcolor\": \"rgb(173, 60, 155)\", \"opacity\": 1, \"type\": \"rect\", \"x0\": \"2020-03-21T11:00:37.850872\", \"x1\": \"2020-03-21T11:45:33.358327\", \"xref\": \"x\", \"y0\": 1.8, \"y1\": 2.2, \"yref\": \"y\"}], \"showlegend\": false, \"template\": {\"data\": {\"bar\": [{\"error_x\": {\"color\": \"#2a3f5f\"}, \"error_y\": {\"color\": \"#2a3f5f\"}, \"marker\": {\"line\": {\"color\": \"#E5ECF6\", \"width\": 0.5}}, \"type\": \"bar\"}], \"barpolar\": [{\"marker\": {\"line\": {\"color\": \"#E5ECF6\", \"width\": 0.5}}, \"type\": \"barpolar\"}], \"carpet\": [{\"aaxis\": {\"endlinecolor\": \"#2a3f5f\", \"gridcolor\": \"white\", \"linecolor\": \"white\", \"minorgridcolor\": \"white\", \"startlinecolor\": \"#2a3f5f\"}, \"baxis\": {\"endlinecolor\": \"#2a3f5f\", \"gridcolor\": \"white\", \"linecolor\": \"white\", \"minorgridcolor\": \"white\", \"startlinecolor\": \"#2a3f5f\"}, \"type\": \"carpet\"}], \"choropleth\": [{\"colorbar\": {\"outlinewidth\": 0, \"ticks\": \"\"}, \"type\": \"choropleth\"}], \"contour\": [{\"colorbar\": {\"outlinewidth\": 0, \"ticks\": \"\"}, \"colorscale\": [[0.0, \"#0d0887\"], [0.1111111111111111, \"#46039f\"], [0.2222222222222222, \"#7201a8\"], [0.3333333333333333, \"#9c179e\"], [0.4444444444444444, \"#bd3786\"], [0.5555555555555556, \"#d8576b\"], [0.6666666666666666, \"#ed7953\"], [0.7777777777777778, \"#fb9f3a\"], [0.8888888888888888, \"#fdca26\"], [1.0, \"#f0f921\"]], \"type\": \"contour\"}], \"contourcarpet\": [{\"colorbar\": {\"outlinewidth\": 0, \"ticks\": \"\"}, \"type\": \"contourcarpet\"}], \"heatmap\": [{\"colorbar\": {\"outlinewidth\": 0, \"ticks\": \"\"}, \"colorscale\": [[0.0, \"#0d0887\"], [0.1111111111111111, \"#46039f\"], [0.2222222222222222, \"#7201a8\"], [0.3333333333333333, \"#9c179e\"], [0.4444444444444444, \"#bd3786\"], [0.5555555555555556, \"#d8576b\"], [0.6666666666666666, \"#ed7953\"], [0.7777777777777778, \"#fb9f3a\"], [0.8888888888888888, \"#fdca26\"], [1.0, \"#f0f921\"]], \"type\": \"heatmap\"}], \"heatmapgl\": [{\"colorbar\": {\"outlinewidth\": 0, \"ticks\": \"\"}, \"colorscale\": [[0.0, \"#0d0887\"], [0.1111111111111111, \"#46039f\"], [0.2222222222222222, \"#7201a8\"], [0.3333333333333333, \"#9c179e\"], [0.4444444444444444, \"#bd3786\"], [0.5555555555555556, \"#d8576b\"], [0.6666666666666666, \"#ed7953\"], [0.7777777777777778, \"#fb9f3a\"], [0.8888888888888888, \"#fdca26\"], [1.0, \"#f0f921\"]], \"type\": \"heatmapgl\"}], \"histogram\": [{\"marker\": {\"colorbar\": {\"outlinewidth\": 0, \"ticks\": \"\"}}, \"type\": \"histogram\"}], \"histogram2d\": [{\"colorbar\": {\"outlinewidth\": 0, \"ticks\": \"\"}, \"colorscale\": [[0.0, \"#0d0887\"], [0.1111111111111111, \"#46039f\"], [0.2222222222222222, \"#7201a8\"], [0.3333333333333333, \"#9c179e\"], [0.4444444444444444, \"#bd3786\"], [0.5555555555555556, \"#d8576b\"], [0.6666666666666666, \"#ed7953\"], [0.7777777777777778, \"#fb9f3a\"], [0.8888888888888888, \"#fdca26\"], [1.0, \"#f0f921\"]], \"type\": \"histogram2d\"}], \"histogram2dcontour\": [{\"colorbar\": {\"outlinewidth\": 0, \"ticks\": \"\"}, \"colorscale\": [[0.0, \"#0d0887\"], [0.1111111111111111, \"#46039f\"], [0.2222222222222222, \"#7201a8\"], [0.3333333333333333, \"#9c179e\"], [0.4444444444444444, \"#bd3786\"], [0.5555555555555556, \"#d8576b\"], [0.6666666666666666, \"#ed7953\"], [0.7777777777777778, \"#fb9f3a\"], [0.8888888888888888, \"#fdca26\"], [1.0, \"#f0f921\"]], \"type\": \"histogram2dcontour\"}], \"mesh3d\": [{\"colorbar\": {\"outlinewidth\": 0, \"ticks\": \"\"}, \"type\": \"mesh3d\"}], \"parcoords\": [{\"line\": {\"colorbar\": {\"outlinewidth\": 0, \"ticks\": \"\"}}, \"type\": \"parcoords\"}], \"pie\": [{\"automargin\": true, \"type\": \"pie\"}], \"scatter\": [{\"marker\": {\"colorbar\": {\"outlinewidth\": 0, \"ticks\": \"\"}}, \"type\": \"scatter\"}], \"scatter3d\": [{\"line\": {\"colorbar\": {\"outlinewidth\": 0, \"ticks\": \"\"}}, \"marker\": {\"colorbar\": {\"outlinewidth\": 0, \"ticks\": \"\"}}, \"type\": \"scatter3d\"}], \"scattercarpet\": [{\"marker\": {\"colorbar\": {\"outlinewidth\": 0, \"ticks\": \"\"}}, \"type\": \"scattercarpet\"}], \"scattergeo\": [{\"marker\": {\"colorbar\": {\"outlinewidth\": 0, \"ticks\": \"\"}}, \"type\": \"scattergeo\"}], \"scattergl\": [{\"marker\": {\"colorbar\": {\"outlinewidth\": 0, \"ticks\": \"\"}}, \"type\": \"scattergl\"}], \"scattermapbox\": [{\"marker\": {\"colorbar\": {\"outlinewidth\": 0, \"ticks\": \"\"}}, \"type\": \"scattermapbox\"}], \"scatterpolar\": [{\"marker\": {\"colorbar\": {\"outlinewidth\": 0, \"ticks\": \"\"}}, \"type\": \"scatterpolar\"}], \"scatterpolargl\": [{\"marker\": {\"colorbar\": {\"outlinewidth\": 0, \"ticks\": \"\"}}, \"type\": \"scatterpolargl\"}], \"scatterternary\": [{\"marker\": {\"colorbar\": {\"outlinewidth\": 0, \"ticks\": \"\"}}, \"type\": \"scatterternary\"}], \"surface\": [{\"colorbar\": {\"outlinewidth\": 0, \"ticks\": \"\"}, \"colorscale\": [[0.0, \"#0d0887\"], [0.1111111111111111, \"#46039f\"], [0.2222222222222222, \"#7201a8\"], [0.3333333333333333, \"#9c179e\"], [0.4444444444444444, \"#bd3786\"], [0.5555555555555556, \"#d8576b\"], [0.6666666666666666, \"#ed7953\"], [0.7777777777777778, \"#fb9f3a\"], [0.8888888888888888, \"#fdca26\"], [1.0, \"#f0f921\"]], \"type\": \"surface\"}], \"table\": [{\"cells\": {\"fill\": {\"color\": \"#EBF0F8\"}, \"line\": {\"color\": \"white\"}}, \"header\": {\"fill\": {\"color\": \"#C8D4E3\"}, \"line\": {\"color\": \"white\"}}, \"type\": \"table\"}]}, \"layout\": {\"annotationdefaults\": {\"arrowcolor\": \"#2a3f5f\", \"arrowhead\": 0, \"arrowwidth\": 1}, \"coloraxis\": {\"colorbar\": {\"outlinewidth\": 0, \"ticks\": \"\"}}, \"colorscale\": {\"diverging\": [[0, \"#8e0152\"], [0.1, \"#c51b7d\"], [0.2, \"#de77ae\"], [0.3, \"#f1b6da\"], [0.4, \"#fde0ef\"], [0.5, \"#f7f7f7\"], [0.6, \"#e6f5d0\"], [0.7, \"#b8e186\"], [0.8, \"#7fbc41\"], [0.9, \"#4d9221\"], [1, \"#276419\"]], \"sequential\": [[0.0, \"#0d0887\"], [0.1111111111111111, \"#46039f\"], [0.2222222222222222, \"#7201a8\"], [0.3333333333333333, \"#9c179e\"], [0.4444444444444444, \"#bd3786\"], [0.5555555555555556, \"#d8576b\"], [0.6666666666666666, \"#ed7953\"], [0.7777777777777778, \"#fb9f3a\"], [0.8888888888888888, \"#fdca26\"], [1.0, \"#f0f921\"]], \"sequentialminus\": [[0.0, \"#0d0887\"], [0.1111111111111111, \"#46039f\"], [0.2222222222222222, \"#7201a8\"], [0.3333333333333333, \"#9c179e\"], [0.4444444444444444, \"#bd3786\"], [0.5555555555555556, \"#d8576b\"], [0.6666666666666666, \"#ed7953\"], [0.7777777777777778, \"#fb9f3a\"], [0.8888888888888888, \"#fdca26\"], [1.0, \"#f0f921\"]]}, \"colorway\": [\"#636efa\", \"#EF553B\", \"#00cc96\", \"#ab63fa\", \"#FFA15A\", \"#19d3f3\", \"#FF6692\", \"#B6E880\", \"#FF97FF\", \"#FECB52\"], \"font\": {\"color\": \"#2a3f5f\"}, \"geo\": {\"bgcolor\": \"white\", \"lakecolor\": \"white\", \"landcolor\": \"#E5ECF6\", \"showlakes\": true, \"showland\": true, \"subunitcolor\": \"white\"}, \"hoverlabel\": {\"align\": \"left\"}, \"hovermode\": \"closest\", \"mapbox\": {\"style\": \"light\"}, \"paper_bgcolor\": \"white\", \"plot_bgcolor\": \"#E5ECF6\", \"polar\": {\"angularaxis\": {\"gridcolor\": \"white\", \"linecolor\": \"white\", \"ticks\": \"\"}, \"bgcolor\": \"#E5ECF6\", \"radialaxis\": {\"gridcolor\": \"white\", \"linecolor\": \"white\", \"ticks\": \"\"}}, \"scene\": {\"xaxis\": {\"backgroundcolor\": \"#E5ECF6\", \"gridcolor\": \"white\", \"gridwidth\": 2, \"linecolor\": \"white\", \"showbackground\": true, \"ticks\": \"\", \"zerolinecolor\": \"white\"}, \"yaxis\": {\"backgroundcolor\": \"#E5ECF6\", \"gridcolor\": \"white\", \"gridwidth\": 2, \"linecolor\": \"white\", \"showbackground\": true, \"ticks\": \"\", \"zerolinecolor\": \"white\"}, \"zaxis\": {\"backgroundcolor\": \"#E5ECF6\", \"gridcolor\": \"white\", \"gridwidth\": 2, \"linecolor\": \"white\", \"showbackground\": true, \"ticks\": \"\", \"zerolinecolor\": \"white\"}}, \"shapedefaults\": {\"line\": {\"color\": \"#2a3f5f\"}}, \"ternary\": {\"aaxis\": {\"gridcolor\": \"white\", \"linecolor\": \"white\", \"ticks\": \"\"}, \"baxis\": {\"gridcolor\": \"white\", \"linecolor\": \"white\", \"ticks\": \"\"}, \"bgcolor\": \"#E5ECF6\", \"caxis\": {\"gridcolor\": \"white\", \"linecolor\": \"white\", \"ticks\": \"\"}}, \"title\": {\"x\": 0.05}, \"xaxis\": {\"automargin\": true, \"gridcolor\": \"white\", \"linecolor\": \"white\", \"ticks\": \"\", \"title\": {\"standoff\": 15}, \"zerolinecolor\": \"white\", \"zerolinewidth\": 2}, \"yaxis\": {\"automargin\": true, \"gridcolor\": \"white\", \"linecolor\": \"white\", \"ticks\": \"\", \"title\": {\"standoff\": 15}, \"zerolinecolor\": \"white\", \"zerolinewidth\": 2}}}, \"title\": {\"text\": \"Look\"}, \"yaxis\": {\"autorange\": true, \"showgrid\": true, \"ticktext\": [\"idle\", \"Ori\", \"\\u042d\\u043a\\u0441\\u043f\\u0435\\u0440\\u0438\\u043c\\u0435\\u043d\\u0442\\u044b\"], \"tickvals\": [0, 1, 2], \"zeroline\": false}},\n",
       "                        {\"responsive\": true}\n",
       "                    ).then(function(){\n",
       "                            \n",
       "var gd = document.getElementById('0ed158e3-3109-4ad5-bb38-90ab24eaab62');\n",
       "var x = new MutationObserver(function (mutations, observer) {{\n",
       "        var display = window.getComputedStyle(gd).display;\n",
       "        if (!display || display === 'none') {{\n",
       "            console.log([gd, 'removed!']);\n",
       "            Plotly.purge(gd);\n",
       "            observer.disconnect();\n",
       "        }}\n",
       "}});\n",
       "\n",
       "// Listen for the removal of the full notebook cells\n",
       "var notebookContainer = gd.closest('#notebook-container');\n",
       "if (notebookContainer) {{\n",
       "    x.observe(notebookContainer, {childList: true});\n",
       "}}\n",
       "\n",
       "// Listen for the clearing of the current output cell\n",
       "var outputEl = gd.closest('.output');\n",
       "if (outputEl) {{\n",
       "    x.observe(outputEl, {childList: true});\n",
       "}}\n",
       "\n",
       "                        })\n",
       "                };\n",
       "                });\n",
       "            </script>\n",
       "        </div>"
      ]
     },
     "metadata": {},
     "output_type": "display_data"
    }
   ],
   "source": [
    "logger.plot()"
   ]
  },
  {
   "cell_type": "code",
   "execution_count": 72,
   "metadata": {},
   "outputs": [
    {
     "data": {
      "text/html": [
       "<div>\n",
       "<style scoped>\n",
       "    .dataframe tbody tr th:only-of-type {\n",
       "        vertical-align: middle;\n",
       "    }\n",
       "\n",
       "    .dataframe tbody tr th {\n",
       "        vertical-align: top;\n",
       "    }\n",
       "\n",
       "    .dataframe thead th {\n",
       "        text-align: right;\n",
       "    }\n",
       "</style>\n",
       "<table border=\"1\" class=\"dataframe\">\n",
       "  <thead>\n",
       "    <tr style=\"text-align: right;\">\n",
       "      <th></th>\n",
       "      <th>task</th>\n",
       "      <th>duration</th>\n",
       "    </tr>\n",
       "  </thead>\n",
       "  <tbody>\n",
       "    <tr>\n",
       "      <th>0</th>\n",
       "      <td>idle</td>\n",
       "      <td>14:08:09.475618</td>\n",
       "    </tr>\n",
       "    <tr>\n",
       "      <th>1</th>\n",
       "      <td>Ori</td>\n",
       "      <td>01:34:15.520458</td>\n",
       "    </tr>\n",
       "    <tr>\n",
       "      <th>2</th>\n",
       "      <td>Эксперименты</td>\n",
       "      <td>00:44:55.507455</td>\n",
       "    </tr>\n",
       "  </tbody>\n",
       "</table>\n",
       "</div>"
      ],
      "text/plain": [
       "           task        duration\n",
       "0          idle 14:08:09.475618\n",
       "1           Ori 01:34:15.520458\n",
       "2  Эксперименты 00:44:55.507455"
      ]
     },
     "execution_count": 72,
     "metadata": {},
     "output_type": "execute_result"
    }
   ],
   "source": [
    "logger.analyze()"
   ]
  },
  {
   "cell_type": "code",
   "execution_count": 58,
   "metadata": {},
   "outputs": [
    {
     "data": {
      "text/html": [
       "<div>\n",
       "<style scoped>\n",
       "    .dataframe tbody tr th:only-of-type {\n",
       "        vertical-align: middle;\n",
       "    }\n",
       "\n",
       "    .dataframe tbody tr th {\n",
       "        vertical-align: top;\n",
       "    }\n",
       "\n",
       "    .dataframe thead th {\n",
       "        text-align: right;\n",
       "    }\n",
       "</style>\n",
       "<table border=\"1\" class=\"dataframe\">\n",
       "  <thead>\n",
       "    <tr style=\"text-align: right;\">\n",
       "      <th></th>\n",
       "      <th>timestamp</th>\n",
       "      <th>task</th>\n",
       "      <th>status</th>\n",
       "    </tr>\n",
       "  </thead>\n",
       "  <tbody>\n",
       "    <tr>\n",
       "      <th>0</th>\n",
       "      <td>2020-03-20 19:18:16.718814</td>\n",
       "      <td>idle</td>\n",
       "      <td>begin</td>\n",
       "    </tr>\n",
       "    <tr>\n",
       "      <th>1</th>\n",
       "      <td>2020-03-20 19:18:17.699155</td>\n",
       "      <td>idle</td>\n",
       "      <td>stop</td>\n",
       "    </tr>\n",
       "    <tr>\n",
       "      <th>2</th>\n",
       "      <td>2020-03-20 19:18:17.702957</td>\n",
       "      <td>Ori</td>\n",
       "      <td>begin</td>\n",
       "    </tr>\n",
       "    <tr>\n",
       "      <th>3</th>\n",
       "      <td>2020-03-20 19:18:17.986907</td>\n",
       "      <td>Ori</td>\n",
       "      <td>stop</td>\n",
       "    </tr>\n",
       "    <tr>\n",
       "      <th>4</th>\n",
       "      <td>2020-03-20 19:18:17.990761</td>\n",
       "      <td>idle</td>\n",
       "      <td>resume</td>\n",
       "    </tr>\n",
       "    <tr>\n",
       "      <th>5</th>\n",
       "      <td>2020-03-20 19:24:06.721636</td>\n",
       "      <td>idle</td>\n",
       "      <td>stop</td>\n",
       "    </tr>\n",
       "    <tr>\n",
       "      <th>6</th>\n",
       "      <td>2020-03-20 19:24:06.724954</td>\n",
       "      <td>Ori</td>\n",
       "      <td>resume</td>\n",
       "    </tr>\n",
       "  </tbody>\n",
       "</table>\n",
       "</div>"
      ],
      "text/plain": [
       "                   timestamp  task  status\n",
       "0 2020-03-20 19:18:16.718814  idle   begin\n",
       "1 2020-03-20 19:18:17.699155  idle    stop\n",
       "2 2020-03-20 19:18:17.702957   Ori   begin\n",
       "3 2020-03-20 19:18:17.986907   Ori    stop\n",
       "4 2020-03-20 19:18:17.990761  idle  resume\n",
       "5 2020-03-20 19:24:06.721636  idle    stop\n",
       "6 2020-03-20 19:24:06.724954   Ori  resume"
      ]
     },
     "execution_count": 58,
     "metadata": {},
     "output_type": "execute_result"
    }
   ],
   "source": [
    "logger.log"
   ]
  },
  {
   "cell_type": "code",
   "execution_count": 52,
   "metadata": {},
   "outputs": [],
   "source": [
    "logger.backup()"
   ]
  },
  {
   "cell_type": "code",
   "execution_count": 811,
   "metadata": {},
   "outputs": [],
   "source": [
    "log_backup = logger.log.copy()"
   ]
  },
  {
   "cell_type": "code",
   "execution_count": 812,
   "metadata": {},
   "outputs": [
    {
     "data": {
      "text/html": [
       "<div>\n",
       "<style scoped>\n",
       "    .dataframe tbody tr th:only-of-type {\n",
       "        vertical-align: middle;\n",
       "    }\n",
       "\n",
       "    .dataframe tbody tr th {\n",
       "        vertical-align: top;\n",
       "    }\n",
       "\n",
       "    .dataframe thead th {\n",
       "        text-align: right;\n",
       "    }\n",
       "</style>\n",
       "<table border=\"1\" class=\"dataframe\">\n",
       "  <thead>\n",
       "    <tr style=\"text-align: right;\">\n",
       "      <th></th>\n",
       "      <th>timestamp</th>\n",
       "      <th>task</th>\n",
       "      <th>status</th>\n",
       "    </tr>\n",
       "  </thead>\n",
       "  <tbody>\n",
       "    <tr>\n",
       "      <th>0</th>\n",
       "      <td>2020-03-13 11:25:11.559632</td>\n",
       "      <td>idle</td>\n",
       "      <td>begin</td>\n",
       "    </tr>\n",
       "    <tr>\n",
       "      <th>1</th>\n",
       "      <td>2020-03-13 11:25:38.711118</td>\n",
       "      <td>idle</td>\n",
       "      <td>stop</td>\n",
       "    </tr>\n",
       "    <tr>\n",
       "      <th>2</th>\n",
       "      <td>2020-03-13 11:25:38.715329</td>\n",
       "      <td>Описание идей для прогноза LTV</td>\n",
       "      <td>begin</td>\n",
       "    </tr>\n",
       "    <tr>\n",
       "      <th>3</th>\n",
       "      <td>2020-03-13 11:30:58.734220</td>\n",
       "      <td>Описание идей для прогноза LTV</td>\n",
       "      <td>end</td>\n",
       "    </tr>\n",
       "    <tr>\n",
       "      <th>4</th>\n",
       "      <td>2020-03-13 11:30:58.754867</td>\n",
       "      <td>idle</td>\n",
       "      <td>resume</td>\n",
       "    </tr>\n",
       "    <tr>\n",
       "      <th>5</th>\n",
       "      <td>2020-03-13 11:47:24.974880</td>\n",
       "      <td>idle</td>\n",
       "      <td>stop</td>\n",
       "    </tr>\n",
       "    <tr>\n",
       "      <th>6</th>\n",
       "      <td>2020-03-13 11:47:25.002364</td>\n",
       "      <td>Подготовка презентации к спецсему</td>\n",
       "      <td>begin</td>\n",
       "    </tr>\n",
       "    <tr>\n",
       "      <th>7</th>\n",
       "      <td>2020-03-13 12:18:26.082281</td>\n",
       "      <td>Подготовка презентации к спецсему</td>\n",
       "      <td>stop</td>\n",
       "    </tr>\n",
       "    <tr>\n",
       "      <th>8</th>\n",
       "      <td>2020-03-13 12:18:26.194548</td>\n",
       "      <td>idle</td>\n",
       "      <td>resume</td>\n",
       "    </tr>\n",
       "    <tr>\n",
       "      <th>9</th>\n",
       "      <td>2020-03-13 12:20:49.824232</td>\n",
       "      <td>idle</td>\n",
       "      <td>stop</td>\n",
       "    </tr>\n",
       "    <tr>\n",
       "      <th>10</th>\n",
       "      <td>2020-03-13 12:20:49.842726</td>\n",
       "      <td>Подготовка презентации к спецсему</td>\n",
       "      <td>resume</td>\n",
       "    </tr>\n",
       "    <tr>\n",
       "      <th>11</th>\n",
       "      <td>2020-03-13 13:08:53.658549</td>\n",
       "      <td>Подготовка презентации к спецсему</td>\n",
       "      <td>stop</td>\n",
       "    </tr>\n",
       "    <tr>\n",
       "      <th>12</th>\n",
       "      <td>2020-03-13 13:08:53.759042</td>\n",
       "      <td>idle</td>\n",
       "      <td>resume</td>\n",
       "    </tr>\n",
       "    <tr>\n",
       "      <th>13</th>\n",
       "      <td>2020-03-13 14:06:52.594118</td>\n",
       "      <td>idle</td>\n",
       "      <td>stop</td>\n",
       "    </tr>\n",
       "    <tr>\n",
       "      <th>14</th>\n",
       "      <td>2020-03-13 14:06:52.790530</td>\n",
       "      <td>Встреча</td>\n",
       "      <td>begin</td>\n",
       "    </tr>\n",
       "    <tr>\n",
       "      <th>15</th>\n",
       "      <td>2020-03-13 14:56:54.960508</td>\n",
       "      <td>Встреча</td>\n",
       "      <td>end</td>\n",
       "    </tr>\n",
       "    <tr>\n",
       "      <th>16</th>\n",
       "      <td>2020-03-13 14:56:55.147864</td>\n",
       "      <td>idle</td>\n",
       "      <td>resume</td>\n",
       "    </tr>\n",
       "    <tr>\n",
       "      <th>17</th>\n",
       "      <td>2020-03-13 16:08:25.798635</td>\n",
       "      <td>idle</td>\n",
       "      <td>stop</td>\n",
       "    </tr>\n",
       "    <tr>\n",
       "      <th>18</th>\n",
       "      <td>2020-03-13 16:08:25.803568</td>\n",
       "      <td>НТ</td>\n",
       "      <td>begin</td>\n",
       "    </tr>\n",
       "    <tr>\n",
       "      <th>19</th>\n",
       "      <td>2020-03-13 17:01:31.508829</td>\n",
       "      <td>НТ</td>\n",
       "      <td>end</td>\n",
       "    </tr>\n",
       "    <tr>\n",
       "      <th>20</th>\n",
       "      <td>2020-03-13 17:01:31.603382</td>\n",
       "      <td>idle</td>\n",
       "      <td>resume</td>\n",
       "    </tr>\n",
       "    <tr>\n",
       "      <th>21</th>\n",
       "      <td>2020-03-13 23:56:31.341015</td>\n",
       "      <td>idle</td>\n",
       "      <td>stop</td>\n",
       "    </tr>\n",
       "    <tr>\n",
       "      <th>22</th>\n",
       "      <td>2020-03-13 23:56:31.411234</td>\n",
       "      <td>Сериалы</td>\n",
       "      <td>begin</td>\n",
       "    </tr>\n",
       "    <tr>\n",
       "      <th>23</th>\n",
       "      <td>2020-03-14 00:55:01.225213</td>\n",
       "      <td>Сериалы</td>\n",
       "      <td>stop</td>\n",
       "    </tr>\n",
       "    <tr>\n",
       "      <th>24</th>\n",
       "      <td>2020-03-14 01:21:31.522983</td>\n",
       "      <td>idle</td>\n",
       "      <td>resume</td>\n",
       "    </tr>\n",
       "    <tr>\n",
       "      <th>25</th>\n",
       "      <td>2020-03-14 01:24:22.229656</td>\n",
       "      <td>idle</td>\n",
       "      <td>stop</td>\n",
       "    </tr>\n",
       "    <tr>\n",
       "      <th>26</th>\n",
       "      <td>2020-03-14 01:24:22.233195</td>\n",
       "      <td>Гитара</td>\n",
       "      <td>begin</td>\n",
       "    </tr>\n",
       "    <tr>\n",
       "      <th>27</th>\n",
       "      <td>2020-03-14 01:24:31.337639</td>\n",
       "      <td>Гитара</td>\n",
       "      <td>stop</td>\n",
       "    </tr>\n",
       "    <tr>\n",
       "      <th>28</th>\n",
       "      <td>2020-03-14 01:24:31.341645</td>\n",
       "      <td>idle</td>\n",
       "      <td>resume</td>\n",
       "    </tr>\n",
       "    <tr>\n",
       "      <th>29</th>\n",
       "      <td>2020-03-14 01:24:36.920018</td>\n",
       "      <td>idle</td>\n",
       "      <td>stop</td>\n",
       "    </tr>\n",
       "    <tr>\n",
       "      <th>...</th>\n",
       "      <td>...</td>\n",
       "      <td>...</td>\n",
       "      <td>...</td>\n",
       "    </tr>\n",
       "    <tr>\n",
       "      <th>129</th>\n",
       "      <td>2020-03-17 17:12:51.360945</td>\n",
       "      <td>idle</td>\n",
       "      <td>stop</td>\n",
       "    </tr>\n",
       "    <tr>\n",
       "      <th>130</th>\n",
       "      <td>2020-03-17 17:12:51.465539</td>\n",
       "      <td>Класс автоматизации модели по странам</td>\n",
       "      <td>resume</td>\n",
       "    </tr>\n",
       "    <tr>\n",
       "      <th>131</th>\n",
       "      <td>2020-03-17 18:20:17.545729</td>\n",
       "      <td>Класс автоматизации модели по странам</td>\n",
       "      <td>stop</td>\n",
       "    </tr>\n",
       "    <tr>\n",
       "      <th>132</th>\n",
       "      <td>2020-03-17 18:20:17.631631</td>\n",
       "      <td>idle</td>\n",
       "      <td>resume</td>\n",
       "    </tr>\n",
       "    <tr>\n",
       "      <th>133</th>\n",
       "      <td>2020-03-17 18:34:05.072114</td>\n",
       "      <td>idle</td>\n",
       "      <td>stop</td>\n",
       "    </tr>\n",
       "    <tr>\n",
       "      <th>134</th>\n",
       "      <td>2020-03-17 18:34:05.100955</td>\n",
       "      <td>Класс автоматизации модели по странам</td>\n",
       "      <td>resume</td>\n",
       "    </tr>\n",
       "    <tr>\n",
       "      <th>135</th>\n",
       "      <td>2020-03-17 19:09:21.255128</td>\n",
       "      <td>Класс автоматизации модели по странам</td>\n",
       "      <td>end</td>\n",
       "    </tr>\n",
       "    <tr>\n",
       "      <th>136</th>\n",
       "      <td>2020-03-17 19:09:21.308316</td>\n",
       "      <td>idle</td>\n",
       "      <td>resume</td>\n",
       "    </tr>\n",
       "    <tr>\n",
       "      <th>137</th>\n",
       "      <td>2020-03-17 19:21:50.876363</td>\n",
       "      <td>idle</td>\n",
       "      <td>stop</td>\n",
       "    </tr>\n",
       "    <tr>\n",
       "      <th>138</th>\n",
       "      <td>2020-03-17 19:21:51.210138</td>\n",
       "      <td>Ori</td>\n",
       "      <td>resume</td>\n",
       "    </tr>\n",
       "    <tr>\n",
       "      <th>139</th>\n",
       "      <td>2020-03-17 20:13:50.187938</td>\n",
       "      <td>Ori</td>\n",
       "      <td>stop</td>\n",
       "    </tr>\n",
       "    <tr>\n",
       "      <th>140</th>\n",
       "      <td>2020-03-17 20:13:50.246618</td>\n",
       "      <td>idle</td>\n",
       "      <td>resume</td>\n",
       "    </tr>\n",
       "    <tr>\n",
       "      <th>141</th>\n",
       "      <td>2020-03-17 21:40:08.519744</td>\n",
       "      <td>idle</td>\n",
       "      <td>stop</td>\n",
       "    </tr>\n",
       "    <tr>\n",
       "      <th>142</th>\n",
       "      <td>2020-03-17 21:40:08.685901</td>\n",
       "      <td>Подготовка презентации к спецсему</td>\n",
       "      <td>resume</td>\n",
       "    </tr>\n",
       "    <tr>\n",
       "      <th>143</th>\n",
       "      <td>2020-03-17 22:26:43.168172</td>\n",
       "      <td>Подготовка презентации к спецсему</td>\n",
       "      <td>stop</td>\n",
       "    </tr>\n",
       "    <tr>\n",
       "      <th>144</th>\n",
       "      <td>2020-03-17 22:26:43.275344</td>\n",
       "      <td>idle</td>\n",
       "      <td>resume</td>\n",
       "    </tr>\n",
       "    <tr>\n",
       "      <th>145</th>\n",
       "      <td>2020-03-17 23:24:07.711086</td>\n",
       "      <td>idle</td>\n",
       "      <td>stop</td>\n",
       "    </tr>\n",
       "    <tr>\n",
       "      <th>146</th>\n",
       "      <td>2020-03-17 23:24:07.769116</td>\n",
       "      <td>Docker</td>\n",
       "      <td>resume</td>\n",
       "    </tr>\n",
       "    <tr>\n",
       "      <th>147</th>\n",
       "      <td>2020-03-18 02:54:34.561158</td>\n",
       "      <td>Docker</td>\n",
       "      <td>end</td>\n",
       "    </tr>\n",
       "    <tr>\n",
       "      <th>148</th>\n",
       "      <td>2020-03-18 02:54:34.758474</td>\n",
       "      <td>idle</td>\n",
       "      <td>resume</td>\n",
       "    </tr>\n",
       "    <tr>\n",
       "      <th>149</th>\n",
       "      <td>2020-03-18 02:58:06.631630</td>\n",
       "      <td>idle</td>\n",
       "      <td>stop</td>\n",
       "    </tr>\n",
       "    <tr>\n",
       "      <th>150</th>\n",
       "      <td>2020-03-18 02:58:06.759214</td>\n",
       "      <td>Сон</td>\n",
       "      <td>resume</td>\n",
       "    </tr>\n",
       "    <tr>\n",
       "      <th>151</th>\n",
       "      <td>2020-03-18 09:16:31.669927</td>\n",
       "      <td>Сон</td>\n",
       "      <td>stop</td>\n",
       "    </tr>\n",
       "    <tr>\n",
       "      <th>152</th>\n",
       "      <td>2020-03-18 09:16:31.894360</td>\n",
       "      <td>idle</td>\n",
       "      <td>resume</td>\n",
       "    </tr>\n",
       "    <tr>\n",
       "      <th>153</th>\n",
       "      <td>2020-03-18 10:41:49.004409</td>\n",
       "      <td>idle</td>\n",
       "      <td>stop</td>\n",
       "    </tr>\n",
       "    <tr>\n",
       "      <th>154</th>\n",
       "      <td>2020-03-18 10:41:49.133562</td>\n",
       "      <td>Выгрузка данных</td>\n",
       "      <td>begin</td>\n",
       "    </tr>\n",
       "    <tr>\n",
       "      <th>155</th>\n",
       "      <td>2020-03-18 10:53:36.874248</td>\n",
       "      <td>Выгрузка данных</td>\n",
       "      <td>end</td>\n",
       "    </tr>\n",
       "    <tr>\n",
       "      <th>156</th>\n",
       "      <td>2020-03-18 10:53:36.948914</td>\n",
       "      <td>idle</td>\n",
       "      <td>resume</td>\n",
       "    </tr>\n",
       "    <tr>\n",
       "      <th>157</th>\n",
       "      <td>2020-03-18 11:06:45.086032</td>\n",
       "      <td>idle</td>\n",
       "      <td>stop</td>\n",
       "    </tr>\n",
       "    <tr>\n",
       "      <th>158</th>\n",
       "      <td>2020-03-18 11:06:45.158252</td>\n",
       "      <td>Диссер: Подготовка тестирования</td>\n",
       "      <td>begin</td>\n",
       "    </tr>\n",
       "  </tbody>\n",
       "</table>\n",
       "<p>159 rows × 3 columns</p>\n",
       "</div>"
      ],
      "text/plain": [
       "                     timestamp                                   task  status\n",
       "0   2020-03-13 11:25:11.559632                                   idle   begin\n",
       "1   2020-03-13 11:25:38.711118                                   idle    stop\n",
       "2   2020-03-13 11:25:38.715329         Описание идей для прогноза LTV   begin\n",
       "3   2020-03-13 11:30:58.734220         Описание идей для прогноза LTV     end\n",
       "4   2020-03-13 11:30:58.754867                                   idle  resume\n",
       "5   2020-03-13 11:47:24.974880                                   idle    stop\n",
       "6   2020-03-13 11:47:25.002364      Подготовка презентации к спецсему   begin\n",
       "7   2020-03-13 12:18:26.082281      Подготовка презентации к спецсему    stop\n",
       "8   2020-03-13 12:18:26.194548                                   idle  resume\n",
       "9   2020-03-13 12:20:49.824232                                   idle    stop\n",
       "10  2020-03-13 12:20:49.842726      Подготовка презентации к спецсему  resume\n",
       "11  2020-03-13 13:08:53.658549      Подготовка презентации к спецсему    stop\n",
       "12  2020-03-13 13:08:53.759042                                   idle  resume\n",
       "13  2020-03-13 14:06:52.594118                                   idle    stop\n",
       "14  2020-03-13 14:06:52.790530                                Встреча   begin\n",
       "15  2020-03-13 14:56:54.960508                                Встреча     end\n",
       "16  2020-03-13 14:56:55.147864                                   idle  resume\n",
       "17  2020-03-13 16:08:25.798635                                   idle    stop\n",
       "18  2020-03-13 16:08:25.803568                                     НТ   begin\n",
       "19  2020-03-13 17:01:31.508829                                     НТ     end\n",
       "20  2020-03-13 17:01:31.603382                                   idle  resume\n",
       "21  2020-03-13 23:56:31.341015                                   idle    stop\n",
       "22  2020-03-13 23:56:31.411234                                Сериалы   begin\n",
       "23  2020-03-14 00:55:01.225213                                Сериалы    stop\n",
       "24  2020-03-14 01:21:31.522983                                   idle  resume\n",
       "25  2020-03-14 01:24:22.229656                                   idle    stop\n",
       "26  2020-03-14 01:24:22.233195                                 Гитара   begin\n",
       "27  2020-03-14 01:24:31.337639                                 Гитара    stop\n",
       "28  2020-03-14 01:24:31.341645                                   idle  resume\n",
       "29  2020-03-14 01:24:36.920018                                   idle    stop\n",
       "..                         ...                                    ...     ...\n",
       "129 2020-03-17 17:12:51.360945                                   idle    stop\n",
       "130 2020-03-17 17:12:51.465539  Класс автоматизации модели по странам  resume\n",
       "131 2020-03-17 18:20:17.545729  Класс автоматизации модели по странам    stop\n",
       "132 2020-03-17 18:20:17.631631                                   idle  resume\n",
       "133 2020-03-17 18:34:05.072114                                   idle    stop\n",
       "134 2020-03-17 18:34:05.100955  Класс автоматизации модели по странам  resume\n",
       "135 2020-03-17 19:09:21.255128  Класс автоматизации модели по странам     end\n",
       "136 2020-03-17 19:09:21.308316                                   idle  resume\n",
       "137 2020-03-17 19:21:50.876363                                   idle    stop\n",
       "138 2020-03-17 19:21:51.210138                                    Ori  resume\n",
       "139 2020-03-17 20:13:50.187938                                    Ori    stop\n",
       "140 2020-03-17 20:13:50.246618                                   idle  resume\n",
       "141 2020-03-17 21:40:08.519744                                   idle    stop\n",
       "142 2020-03-17 21:40:08.685901      Подготовка презентации к спецсему  resume\n",
       "143 2020-03-17 22:26:43.168172      Подготовка презентации к спецсему    stop\n",
       "144 2020-03-17 22:26:43.275344                                   idle  resume\n",
       "145 2020-03-17 23:24:07.711086                                   idle    stop\n",
       "146 2020-03-17 23:24:07.769116                                 Docker  resume\n",
       "147 2020-03-18 02:54:34.561158                                 Docker     end\n",
       "148 2020-03-18 02:54:34.758474                                   idle  resume\n",
       "149 2020-03-18 02:58:06.631630                                   idle    stop\n",
       "150 2020-03-18 02:58:06.759214                                    Сон  resume\n",
       "151 2020-03-18 09:16:31.669927                                    Сон    stop\n",
       "152 2020-03-18 09:16:31.894360                                   idle  resume\n",
       "153 2020-03-18 10:41:49.004409                                   idle    stop\n",
       "154 2020-03-18 10:41:49.133562                        Выгрузка данных   begin\n",
       "155 2020-03-18 10:53:36.874248                        Выгрузка данных     end\n",
       "156 2020-03-18 10:53:36.948914                                   idle  resume\n",
       "157 2020-03-18 11:06:45.086032                                   idle    stop\n",
       "158 2020-03-18 11:06:45.158252        Диссер: Подготовка тестирования   begin\n",
       "\n",
       "[159 rows x 3 columns]"
      ]
     },
     "execution_count": 812,
     "metadata": {},
     "output_type": "execute_result"
    }
   ],
   "source": [
    "log_backup"
   ]
  },
  {
   "cell_type": "code",
   "execution_count": null,
   "metadata": {},
   "outputs": [],
   "source": []
  }
 ],
 "metadata": {
  "kernelspec": {
   "display_name": "Python 3",
   "language": "python",
   "name": "python3"
  },
  "language_info": {
   "codemirror_mode": {
    "name": "ipython",
    "version": 3
   },
   "file_extension": ".py",
   "mimetype": "text/x-python",
   "name": "python",
   "nbconvert_exporter": "python",
   "pygments_lexer": "ipython3",
   "version": "3.6.8"
  }
 },
 "nbformat": 4,
 "nbformat_minor": 2
}
